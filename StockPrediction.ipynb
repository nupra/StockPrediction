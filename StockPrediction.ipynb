{
 "cells": [
  {
   "cell_type": "markdown",
   "metadata": {},
   "source": [
    "# Importing all the useful libraries "
   ]
  },
  {
   "cell_type": "code",
   "execution_count": 1,
   "metadata": {},
   "outputs": [],
   "source": [
    "#This program predicts stock prices using Machine Learning\n",
    "\n",
    "import quandl #for dataset\n",
    "import numpy as np\n",
    "from sklearn.linear_model import LinearRegression\n",
    "from sklearn.svm import SVR\n",
    "from sklearn.model_selection import train_test_split"
   ]
  },
  {
   "cell_type": "markdown",
   "metadata": {},
   "source": [
    "# Fetching the dataset"
   ]
  },
  {
   "cell_type": "code",
   "execution_count": 2,
   "metadata": {},
   "outputs": [
    {
     "name": "stdout",
     "output_type": "stream",
     "text": [
      "             Open   High    Low  Close     Volume  Ex-Dividend  Split Ratio  \\\n",
      "Date                                                                          \n",
      "1997-05-16  22.38  23.75  20.50  20.75  1225000.0          0.0          1.0   \n",
      "1997-05-19  20.50  21.25  19.50  20.50   508900.0          0.0          1.0   \n",
      "1997-05-20  20.75  21.00  19.63  19.63   455600.0          0.0          1.0   \n",
      "\n",
      "            Adj. Open  Adj. High  Adj. Low  Adj. Close  Adj. Volume  \n",
      "Date                                                                 \n",
      "1997-05-16   1.865000   1.979167  1.708333    1.729167   14700000.0  \n",
      "1997-05-19   1.708333   1.770833  1.625000    1.708333    6106800.0  \n",
      "1997-05-20   1.729167   1.750000  1.635833    1.635833    5467200.0  \n"
     ]
    }
   ],
   "source": [
    "#Get the stock data\n",
    "\n",
    "df=quandl.get(\"WIKI/AMZN\") #stock prices of Amazon \n",
    "#for Facebook use 'FB' instead of 'AMZN'\n",
    "\n",
    "\n",
    "#Peek-a-bow at data\n",
    "print(df.head(3))\n"
   ]
  },
  {
   "cell_type": "markdown",
   "metadata": {},
   "source": [
    " "
   ]
  },
  {
   "cell_type": "code",
   "execution_count": 3,
   "metadata": {},
   "outputs": [
    {
     "name": "stdout",
     "output_type": "stream",
     "text": [
      "            Adj. Close\n",
      "Date                  \n",
      "1997-05-16    1.729167\n",
      "1997-05-19    1.708333\n",
      "1997-05-20    1.635833\n",
      "1997-05-21    1.427500\n",
      "1997-05-22    1.395833\n"
     ]
    }
   ],
   "source": [
    "# Get the Adjusted Close Price of the stock\n",
    "df=df[['Adj. Close']]\n",
    "\n",
    "#Peek-a-bow\n",
    "print(df.head())"
   ]
  },
  {
   "cell_type": "markdown",
   "metadata": {},
   "source": [
    " "
   ]
  },
  {
   "cell_type": "code",
   "execution_count": 4,
   "metadata": {},
   "outputs": [
    {
     "name": "stdout",
     "output_type": "stream",
     "text": [
      "            Adj. Close  Prediction\n",
      "Date                              \n",
      "1997-05-16    1.729167    1.541667\n",
      "1997-05-19    1.708333    1.515833\n",
      "1997-05-20    1.635833    1.588333\n",
      "1997-05-21    1.427500    1.911667\n",
      "1997-05-22    1.395833    2.000000\n"
     ]
    }
   ],
   "source": [
    "#A variable for predicting 'n' days out into the future\n",
    "forecast_out=30      #'n' days\n",
    "\n",
    "\n",
    "#creating a new coloumn for the target/Dependent variable\n",
    "\n",
    "df['Prediction']=df[['Adj. Close']].shift(-forecast_out)\n",
    "print(df.head())"
   ]
  },
  {
   "cell_type": "markdown",
   "metadata": {},
   "source": [
    "# Creating the Independent Data set (X)"
   ]
  },
  {
   "cell_type": "code",
   "execution_count": 5,
   "metadata": {},
   "outputs": [
    {
     "name": "stdout",
     "output_type": "stream",
     "text": [
      "[[   1.72916667]\n",
      " [   1.70833333]\n",
      " [   1.63583333]\n",
      " ...\n",
      " [1350.47      ]\n",
      " [1338.99      ]\n",
      " [1386.23      ]]\n"
     ]
    }
   ],
   "source": [
    "#Convert the dataframe to a numpy array\n",
    "X=np.array(df.drop(['Prediction'],1))\n",
    "\n",
    "#Remove the last 'n' rows\n",
    "X=X[:-forecast_out]\n",
    "\n",
    "print(X)"
   ]
  },
  {
   "cell_type": "markdown",
   "metadata": {},
   "source": [
    "# Create the dependent data set (Y)"
   ]
  },
  {
   "cell_type": "code",
   "execution_count": 6,
   "metadata": {},
   "outputs": [
    {
     "name": "stdout",
     "output_type": "stream",
     "text": [
      "[1.54166667e+00 1.51583333e+00 1.58833333e+00 ... 1.49556000e+03\n",
      " 1.55586000e+03 1.49705000e+03]\n"
     ]
    }
   ],
   "source": [
    "\n",
    "#Convert the dataframe to a numpy array(All of the values the NaN)\n",
    "Y=np.array(df['Prediction'])\n",
    "\n",
    "\n",
    "# Get all of the y values execpt the last 'n' rows\n",
    "Y=Y[:-forecast_out]\n",
    "\n",
    "print(Y)\n"
   ]
  },
  {
   "cell_type": "markdown",
   "metadata": {},
   "source": [
    "#  Splitting the data set into TESTING and TRAINING Sets"
   ]
  },
  {
   "cell_type": "markdown",
   "metadata": {},
   "source": [
    "#### Here we are using 80:20 ratio, "
   ]
  },
  {
   "cell_type": "code",
   "execution_count": 7,
   "metadata": {},
   "outputs": [],
   "source": [
    "#Split the data into 80% training and 20% testing\n",
    "\n",
    "x_train,x_test,y_train,y_test=train_test_split(X,Y, test_size=0.2)"
   ]
  },
  {
   "cell_type": "markdown",
   "metadata": {},
   "source": [
    "\n",
    "\n",
    "     \n"
   ]
  },
  {
   "cell_type": "markdown",
   "metadata": {},
   "source": [
    "# Support Vector Machine Model"
   ]
  },
  {
   "cell_type": "markdown",
   "metadata": {},
   "source": [
    "#### Support Vector Machine” (SVM) is a supervised machine learning algorithm which can be used for both classification or regression challenges. However, it is mostly used in classification problems. In this algorithm, we plot each data item as a point in n-dimensional space (where n is number of features you have) with the value of each feature being the value of a particular coordinate. Then, we perform classification by finding the hyper-plane that differentiate the two classes very well"
   ]
  },
  {
   "cell_type": "markdown",
   "metadata": {},
   "source": [
    " "
   ]
  },
  {
   "cell_type": "code",
   "execution_count": 8,
   "metadata": {},
   "outputs": [
    {
     "data": {
      "text/plain": [
       "SVR(C=1000.0, cache_size=200, coef0=0.0, degree=3, epsilon=0.1, gamma=0.1,\n",
       "  kernel='rbf', max_iter=-1, shrinking=True, tol=0.001, verbose=False)"
      ]
     },
     "execution_count": 8,
     "metadata": {},
     "output_type": "execute_result"
    }
   ],
   "source": [
    "#Create and Train the Support Vector Machine (Regressor)\n",
    "\n",
    "svr_rbf=SVR(kernel='rbf', C=1e3, gamma=0.1)\n",
    "svr_rbf.fit(x_train,y_train)"
   ]
  },
  {
   "cell_type": "code",
   "execution_count": 9,
   "metadata": {},
   "outputs": [
    {
     "name": "stdout",
     "output_type": "stream",
     "text": [
      "SVM Confidence 0.9397349850600869\n"
     ]
    }
   ],
   "source": [
    "#Testing Model Accuracy : returns the coefficient of the determination R^2 of the prediction\n",
    "#The best possible score is 1.0\n",
    "\n",
    "svm_confidence=svr_rbf.score(x_test,y_test)\n",
    "\n",
    "print(\"SVM Confidence\", svm_confidence)"
   ]
  },
  {
   "cell_type": "markdown",
   "metadata": {},
   "source": [
    " "
   ]
  },
  {
   "cell_type": "markdown",
   "metadata": {},
   "source": [
    " "
   ]
  },
  {
   "cell_type": "markdown",
   "metadata": {},
   "source": [
    "# Linear Regression Model"
   ]
  },
  {
   "cell_type": "markdown",
   "metadata": {},
   "source": [
    "### A model that assumes a linear relationship between the input variables (x) and the single output variable (y). More specifically, that y can be calculated from a linear combination of the input variables (x)."
   ]
  },
  {
   "cell_type": "code",
   "execution_count": 10,
   "metadata": {},
   "outputs": [
    {
     "data": {
      "text/plain": [
       "LinearRegression(copy_X=True, fit_intercept=True, n_jobs=None,\n",
       "         normalize=False)"
      ]
     },
     "execution_count": 10,
     "metadata": {},
     "output_type": "execute_result"
    }
   ],
   "source": [
    "#Create and Train the Linear Regression Model\n",
    "lr=LinearRegression()\n",
    "\n",
    "#train the model\n",
    "lr.fit(x_train,y_train)"
   ]
  },
  {
   "cell_type": "code",
   "execution_count": 11,
   "metadata": {},
   "outputs": [
    {
     "name": "stdout",
     "output_type": "stream",
     "text": [
      "SVM Confidence 0.9878611064062018\n"
     ]
    }
   ],
   "source": [
    "#Testing Model Accuracy : returns the coefficient of the determination R^2 of the prediction\n",
    "#The best possible score is 1.0\n",
    "\n",
    "lr_confidence=lr.score(x_test,y_test)\n",
    "\n",
    "print(\"SVM Confidence\", lr_confidence)"
   ]
  },
  {
   "cell_type": "markdown",
   "metadata": {},
   "source": [
    "  "
   ]
  },
  {
   "cell_type": "markdown",
   "metadata": {},
   "source": [
    "Setting the value of forecast(n) i.e. number of days in the future."
   ]
  },
  {
   "cell_type": "code",
   "execution_count": 12,
   "metadata": {},
   "outputs": [
    {
     "name": "stdout",
     "output_type": "stream",
     "text": [
      "[[1414.51]\n",
      " [1451.05]\n",
      " [1461.76]\n",
      " [1448.69]\n",
      " [1468.35]\n",
      " [1482.92]\n",
      " [1484.76]\n",
      " [1500.  ]\n",
      " [1521.95]\n",
      " [1511.98]\n",
      " [1512.45]\n",
      " [1493.45]\n",
      " [1500.25]\n",
      " [1523.61]\n",
      " [1537.64]\n",
      " [1545.  ]\n",
      " [1551.86]\n",
      " [1578.89]\n",
      " [1598.39]\n",
      " [1588.18]\n",
      " [1591.  ]\n",
      " [1582.32]\n",
      " [1571.68]\n",
      " [1544.93]\n",
      " [1586.51]\n",
      " [1581.86]\n",
      " [1544.1 ]\n",
      " [1495.56]\n",
      " [1555.86]\n",
      " [1497.05]]\n"
     ]
    }
   ],
   "source": [
    "#Set  x_forecast equal to the last 30 rows of the original data from Adj, Close column\n",
    "x_forecast=np.array(df.drop(['Prediction'],1))[-forecast_out:]\n",
    "print(x_forecast)"
   ]
  },
  {
   "cell_type": "markdown",
   "metadata": {},
   "source": [
    " "
   ]
  },
  {
   "cell_type": "markdown",
   "metadata": {},
   "source": [
    "# Prediction "
   ]
  },
  {
   "cell_type": "markdown",
   "metadata": {},
   "source": [
    "The last and the only step we are left with is to predict the values of \"Closing Price\" of the stock."
   ]
  },
  {
   "cell_type": "code",
   "execution_count": 13,
   "metadata": {},
   "outputs": [
    {
     "name": "stdout",
     "output_type": "stream",
     "text": [
      "[1503.46496757 1542.39779124 1553.80913611 1539.88324653 1560.83068258\n",
      " 1576.35479973 1578.31529222 1594.55328436 1617.94068118 1607.31779524\n",
      " 1607.81857322 1587.57435729 1594.81965562 1619.70938636 1634.65814159\n",
      " 1642.50011154 1649.80933897 1678.60939983 1699.38635828 1688.50775593\n",
      " 1691.51242377 1682.26401355 1670.92725263 1642.42552759 1686.7283959\n",
      " 1681.77389043 1641.541175   1589.82253075 1654.07127917 1591.41010347]\n"
     ]
    }
   ],
   "source": [
    "#Print LR Model predictions for the next 'n' days (30 days in our case)\n",
    "lr_prediction=lr.predict(x_forecast)\n",
    "print(lr_prediction)\n",
    "\n"
   ]
  },
  {
   "cell_type": "code",
   "execution_count": 14,
   "metadata": {},
   "outputs": [
    {
     "name": "stdout",
     "output_type": "stream",
     "text": [
      "[1053.67520735 1549.96980804  670.1926251  1049.92206478  670.159435\n",
      "  670.159435    670.159435    670.159435    670.159435    670.159435\n",
      "  670.159435    670.159435    670.159435    670.159435    670.159435\n",
      "  670.159435    670.159435    670.159435    670.159435    670.159435\n",
      "  670.159435    670.159435    670.159435    670.159435    670.159435\n",
      "  670.159435    670.159435    670.159435    670.159435    670.159435  ]\n"
     ]
    }
   ],
   "source": [
    "#Print SVm Model predictions for the next 'n' days (30 days in our case)\n",
    "svm_prediction=svr_rbf.predict(x_forecast)\n",
    "print(svm_prediction)\n"
   ]
  }
 ],
 "metadata": {
  "kernelspec": {
   "display_name": "Python 3",
   "language": "python",
   "name": "python3"
  },
  "language_info": {
   "codemirror_mode": {
    "name": "ipython",
    "version": 3
   },
   "file_extension": ".py",
   "mimetype": "text/x-python",
   "name": "python",
   "nbconvert_exporter": "python",
   "pygments_lexer": "ipython3",
   "version": "3.7.3"
  }
 },
 "nbformat": 4,
 "nbformat_minor": 2
}
